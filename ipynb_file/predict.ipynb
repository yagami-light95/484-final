{
 "cells": [
  {
   "cell_type": "code",
   "execution_count": 6,
   "metadata": {},
   "outputs": [],
   "source": [
    "# -*- coding: utf-8 -*-"
   ]
  },
  {
   "cell_type": "code",
   "execution_count": 7,
   "metadata": {},
   "outputs": [],
   "source": [
    "from cnn_model import *"
   ]
  },
  {
   "cell_type": "code",
   "execution_count": 8,
   "metadata": {},
   "outputs": [],
   "source": [
    "os.environ['TF_CPP_MIN_LOG_LEVEL'] = '2'"
   ]
  },
  {
   "cell_type": "code",
   "execution_count": 9,
   "metadata": {},
   "outputs": [],
   "source": [
    "save_path = os.path.join(Config.saver_folder, 'best_validation')"
   ]
  },
  {
   "cell_type": "code",
   "execution_count": 10,
   "metadata": {},
   "outputs": [],
   "source": [
    "class img_predict:\n",
    "\n",
    "    def __init__(self):\n",
    "        self.model = CNN()\n",
    "\n",
    "        self.session = tf.Session()\n",
    "        self.session.run(tf.global_variables_initializer())\n",
    "        saver = tf.train.Saver()\n",
    "        saver.restore(sess=self.session, save_path=save_path)\n",
    "\n",
    "    @staticmethod\n",
    "    def check_array(image):\n",
    "        # Check the size of the image\n",
    "        if image.shape != (60, 160):\n",
    "            raise ValueError('Only 160*60 captcha-size is accepted.')\n",
    "\n",
    "    def predict(self, captcha):\n",
    "        image = Image.open(captcha).convert('L')\n",
    "        image = np.array(image)\n",
    "        self.check_array(image)\n",
    "        image = image.flatten() / 255.0\n",
    "        data = image.reshape([1, Config.width * Config.height])\n",
    "\n",
    "        feed_dic = {self.model.input_x: data,\n",
    "                    self.model.keep_prob: 1.0,\n",
    "                    self.model.training: False}\n",
    "        predict_label = self.session.run(self.model.predict_max_idx, feed_dict=feed_dic)\n",
    "        return predict_label[0]\n"
   ]
  },
  {
   "cell_type": "code",
   "execution_count": 11,
   "metadata": {},
   "outputs": [
    {
     "name": "stdout",
     "output_type": "stream",
     "text": [
      "WARNING:tensorflow:From cnn_model.py:46: batch_normalization (from tensorflow.python.layers.normalization) is deprecated and will be removed in a future version.\n",
      "Instructions for updating:\n",
      "Use keras.layers.batch_normalization instead.\n",
      "WARNING:tensorflow:From /Users/lightyagami/opt/anaconda3/envs/tff/lib/python2.7/site-packages/tensorflow/python/framework/op_def_library.py:263: colocate_with (from tensorflow.python.framework.ops) is deprecated and will be removed in a future version.\n",
      "Instructions for updating:\n",
      "Colocations handled automatically by placer.\n",
      "WARNING:tensorflow:From cnn_model.py:71: calling dropout (from tensorflow.python.ops.nn_ops) with keep_prob is deprecated and will be removed in a future version.\n",
      "Instructions for updating:\n",
      "Please use `rate` instead of `keep_prob`. Rate should be set to `rate = 1 - keep_prob`.\n",
      "WARNING:tensorflow:From /Users/lightyagami/opt/anaconda3/envs/tff/lib/python2.7/site-packages/tensorflow/python/training/saver.py:1266: checkpoint_exists (from tensorflow.python.training.checkpoint_management) is deprecated and will be removed in a future version.\n",
      "Instructions for updating:\n",
      "Use standard file APIs to check for files with this prefix.\n",
      "INFO:tensorflow:Restoring parameters from checkpoints/best_validation\n",
      "The img we want to predict: test/0693.jpg\n",
      "\n",
      "Predict result: 0693\n"
     ]
    }
   ],
   "source": [
    "if __name__ == \"__main__\":\n",
    "    img = 'test/0693.jpg'\n",
    "    p = img_predict()\n",
    "    result = p.predict(img)\n",
    "    print'The img we want to predict: %s\\n' %img\n",
    "    print 'Predict result: %s' % (''.join([str(x) for x in result]))"
   ]
  },
  {
   "cell_type": "code",
   "execution_count": null,
   "metadata": {},
   "outputs": [],
   "source": []
  }
 ],
 "metadata": {
  "kernelspec": {
   "display_name": "Python 2",
   "language": "python",
   "name": "python2"
  },
  "language_info": {
   "codemirror_mode": {
    "name": "ipython",
    "version": 2
   },
   "file_extension": ".py",
   "mimetype": "text/x-python",
   "name": "python",
   "nbconvert_exporter": "python",
   "pygments_lexer": "ipython2",
   "version": "2.7.18"
  }
 },
 "nbformat": 4,
 "nbformat_minor": 2
}
