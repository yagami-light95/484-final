{
 "cells": [
  {
   "cell_type": "code",
   "execution_count": 1,
   "metadata": {},
   "outputs": [],
   "source": [
    "# -*- coding: utf-8 -*-"
   ]
  },
  {
   "cell_type": "code",
   "execution_count": 2,
   "metadata": {},
   "outputs": [],
   "source": [
    "from captcha.image import ImageCaptcha\n",
    "import os\n",
    "import random\n",
    "from tqdm import tqdm\n",
    "from PIL import Image\n",
    "import numpy as np"
   ]
  },
  {
   "cell_type": "code",
   "execution_count": 3,
   "metadata": {},
   "outputs": [],
   "source": [
    "class Config(object):\n",
    "    width = 160  # Set the width of the image\n",
    "    height = 60  # Set the height of the image\n",
    "    char_num = 4  # Set the number of CAPTCHA to 4\n",
    "    characters = range(10)\n",
    "    generate_num = (10000, 500, 500)  # Number of training sets, validation sets and test sets\n",
    "\n",
    "    test_folder = 'test'\n",
    "    train_folder = 'train'\n",
    "    validation_folder = 'validation'\n",
    "    tensorboard_folder = 'tensorboard'  # the log path of tensorboard\n",
    "    saver_folder = 'checkpoints'\n",
    "\n",
    "    alpha = 1e-3  # learning\n",
    "    Epoch = 100  # number of epoch\n",
    "    batch_size = 64  # batchsize\n",
    "    keep_prob = 0.5  # dropout\n",
    "    print_per_batch = 20  # print results every 20 times\n",
    "    save_per_batch = 20"
   ]
  },
  {
   "cell_type": "code",
   "execution_count": 4,
   "metadata": {},
   "outputs": [],
   "source": [
    "class Generate:\n",
    "\n",
    "    def __init__(self):\n",
    "        self.image = ImageCaptcha(width=Config.width, height=Config.height)\n",
    "        self.check_path(Config.test_folder)\n",
    "        self.check_path(Config.validation_folder)\n",
    "        self.check_path(Config.train_folder)\n",
    "        self.run()\n",
    "\n",
    "    @staticmethod\n",
    "    def check_path(folder):\n",
    "        # Check if the folder exists and create it if it does not\n",
    "        if os.path.exists(folder):\n",
    "            pass\n",
    "        else:\n",
    "            os.mkdir(folder)\n",
    "\n",
    "    def gen_captcha(self, folder, gen_num, random_=True):\n",
    "        # Generate captcha images\n",
    "        desc = '{:<10}'.format(folder)\n",
    "\n",
    "        if random_:\n",
    "            # Randomly generate captcha for test sets and validation sets\n",
    "            for _ in tqdm(range(gen_num), desc=desc):\n",
    "                while True:\n",
    "                    label = ''.join('%s' % num for num in\n",
    "                                    random.sample(Config.characters, Config.char_num))\n",
    "                    path = folder + '/%s.jpg' % label\n",
    "\n",
    "                    # Check if the captcha already exists\n",
    "                    if not os.path.exists(path):\n",
    "                        self.image.generate_image(label)\n",
    "                        self.image.write(label, path)\n",
    "                        break\n",
    "\n",
    "        else:\n",
    "            # Generate CAPTCHA in order\n",
    "            for num in tqdm(range(gen_num), desc=desc):\n",
    "                num_length = len(str(num))\n",
    "\n",
    "                if num_length < Config.char_num:\n",
    "                    # Less than 4 digits are made up by 0\n",
    "                    label = '0' * (Config.char_num - num_length) + str(num)\n",
    "                    path = folder + '/%s.jpg' % label\n",
    "                    self.image.generate_image(label)\n",
    "                    self.image.write(label, path)\n",
    "                else:\n",
    "                    label = str(num)\n",
    "                    path = folder + '/%s.jpg' % label\n",
    "                    self.image.generate_image(label)\n",
    "                    self.image.write(label, path)\n",
    "\n",
    "    def run(self):\n",
    "        print '==> Generating images...'\n",
    "        self.gen_captcha(Config.train_folder, Config.generate_num[0], random_=False)\n",
    "        self.gen_captcha(Config.validation_folder, Config.generate_num[1])\n",
    "        self.gen_captcha(Config.test_folder, Config.generate_num[2])"
   ]
  },
  {
   "cell_type": "code",
   "execution_count": 5,
   "metadata": {},
   "outputs": [],
   "source": [
    "class ReadData:\n",
    "\n",
    "    def __init__(self):\n",
    "        self.test_img = os.listdir(Config.test_folder)\n",
    "        self.train_img = os.listdir(Config.train_folder)\n",
    "        self.sample_num = len(self.train_img)\n",
    "\n",
    "    def read_data(self, path):\n",
    "        img = Image.open(path).convert('L')\n",
    "        image_array = np.array(img)\n",
    "        image_data = image_array.flatten() / 255.0\n",
    "        # Cut image path\n",
    "        label = os.path.splitext(os.path.split(path)[1])[0]\n",
    "        label_vec = self.label2vec(label)\n",
    "        return image_data, label_vec\n",
    "\n",
    "    @staticmethod\n",
    "    def label2vec(label):\n",
    "        \"\"\"\n",
    "        Convert the CAPTCHA labels to a 40-dimensional vector.\n",
    "        :param label: 1327\n",
    "        :return:\n",
    "            [0,1,0,0,0,0,0,0,0,0,\n",
    "            0,0,0,1,0,0,0,0,0,0,\n",
    "            0,0,1,0,0,0,0,0,0,0,\n",
    "            0,0,0,0,0,0,0,1,0,0]\n",
    "        \"\"\"\n",
    "        label_vec = np.zeros(Config.char_num * len(Config.characters))\n",
    "        for i, num in enumerate(label):\n",
    "            idx = i * len(Config.characters) + int(num)\n",
    "            label_vec[idx] = 1\n",
    "        return label_vec\n",
    "\n",
    "    def load_data(self, folder):\n",
    "        \"\"\"\n",
    "        Loading sample data\n",
    "        :param folder: Folder for pictures\n",
    "        :return:\n",
    "            data: image data\n",
    "            label:  image label\n",
    "            size:   number of image\n",
    "        \"\"\"\n",
    "        if os.path.exists(folder):\n",
    "            path_list = os.listdir(folder)\n",
    "            size = len(path_list)\n",
    "            data = np.zeros([size, Config.height * Config.width])\n",
    "            label = np.zeros([size, Config.char_num * len(Config.characters)])\n",
    "            for i, img_path in enumerate(path_list):\n",
    "                path = '%s/%s' % (folder, img_path)\n",
    "                data[i], label[i] = self.read_data(path)\n",
    "            return data, label, size\n",
    "        else:\n",
    "            raise IOError('No such directory, please check again.')"
   ]
  },
  {
   "cell_type": "code",
   "execution_count": 6,
   "metadata": {},
   "outputs": [
    {
     "name": "stdout",
     "output_type": "stream",
     "text": [
      "==> Generating images...\n"
     ]
    },
    {
     "name": "stderr",
     "output_type": "stream",
     "text": [
      "train     : 100%|██████████| 10000/10000 [00:51<00:00, 195.10it/s]\n",
      "validation: 100%|██████████| 500/500 [00:02<00:00, 196.37it/s]\n",
      "test      : 100%|██████████| 500/500 [00:02<00:00, 197.23it/s]\n"
     ]
    }
   ],
   "source": [
    "if __name__ == '__main__':\n",
    "    Generate()"
   ]
  },
  {
   "cell_type": "code",
   "execution_count": null,
   "metadata": {},
   "outputs": [],
   "source": []
  }
 ],
 "metadata": {
  "kernelspec": {
   "display_name": "Python 2",
   "language": "python",
   "name": "python2"
  },
  "language_info": {
   "codemirror_mode": {
    "name": "ipython",
    "version": 2
   },
   "file_extension": ".py",
   "mimetype": "text/x-python",
   "name": "python",
   "nbconvert_exporter": "python",
   "pygments_lexer": "ipython2",
   "version": "2.7.18"
  }
 },
 "nbformat": 4,
 "nbformat_minor": 2
}
